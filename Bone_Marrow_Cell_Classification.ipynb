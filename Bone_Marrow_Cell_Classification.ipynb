{
  "cells": [
    {
      "cell_type": "markdown",
      "metadata": {
        "id": "view-in-github",
        "colab_type": "text"
      },
      "source": [
        "<a href=\"https://colab.research.google.com/github/Madhuram2901/GDGC_MACHINE_LEARNING_MADHURAM/blob/main/Bone_Marrow_Cell_Classification.ipynb\" target=\"_parent\"><img src=\"https://colab.research.google.com/assets/colab-badge.svg\" alt=\"Open In Colab\"/></a>"
      ]
    },
    {
      "cell_type": "markdown",
      "metadata": {
        "id": "sSWoqjv7jPAB"
      },
      "source": [
        "# **Importing Dataset**"
      ]
    },
    {
      "cell_type": "code",
      "execution_count": null,
      "metadata": {
        "id": "6LJmAu0WX9Qs"
      },
      "outputs": [],
      "source": [
        "import kagglehub\n",
        "\n",
        "# Download latest version\n",
        "path = kagglehub.dataset_download(\"andrewmvd/bone-marrow-cell-classification\")\n",
        "\n",
        "print(\"Path to dataset files:\", path)"
      ]
    },
    {
      "cell_type": "markdown",
      "metadata": {
        "id": "Uy2KBQ8fjTAW"
      },
      "source": [
        "# **Importing Dependencies**"
      ]
    },
    {
      "cell_type": "code",
      "execution_count": null,
      "metadata": {
        "collapsed": true,
        "id": "5toNjlN5m-l3"
      },
      "outputs": [],
      "source": [
        "!pip install tensorflow matplotlib seaborn scikit-learn\n",
        "\n",
        "import tensorflow as tf\n",
        "from tensorflow.keras.preprocessing.image import ImageDataGenerator\n",
        "from tensorflow.keras.models import Sequential, Model\n",
        "from tensorflow.keras.layers import Conv2D, MaxPooling2D, Flatten, Dense, Dropout\n",
        "from tensorflow.keras.applications import ResNet50\n",
        "from sklearn.metrics import classification_report, roc_auc_score, confusion_matrix, roc_curve\n",
        "import numpy as np\n",
        "import matplotlib.pyplot as plt\n",
        "import seaborn as sns\n",
        "import pandas as pd\n"
      ]
    },
    {
      "cell_type": "markdown",
      "metadata": {
        "id": "N3Slp3OfS-b1"
      },
      "source": [
        "# **Data PreProcessing**"
      ]
    },
    {
      "cell_type": "code",
      "execution_count": null,
      "metadata": {
        "id": "UjrlPoKMnGOm"
      },
      "outputs": [],
      "source": [
        "datagen = ImageDataGenerator(rescale=1./255, validation_split=0.2)\n",
        "\n",
        "\n",
        "train_generator = datagen.flow_from_directory(\n",
        "    path,\n",
        "    target_size=(224, 224),\n",
        "    batch_size=32,\n",
        "    class_mode='categorical',\n",
        "    subset='training'\n",
        ")\n",
        "\n",
        "val_generator = datagen.flow_from_directory(\n",
        "    path,\n",
        "    target_size=(224, 224),\n",
        "    batch_size=32,\n",
        "    class_mode='categorical',\n",
        "    subset='validation'\n",
        ")\n",
        "\n",
        "\n",
        "test_generator = datagen.flow_from_directory(\n",
        "    path,\n",
        "    target_size=(224, 224),\n",
        "    batch_size=32,\n",
        "    class_mode='categorical',\n",
        "    subset=None\n",
        ")\n"
      ]
    },
    {
      "cell_type": "markdown",
      "metadata": {
        "id": "FQavDUXnngVB"
      },
      "source": [
        "# **Custom CNN Model**"
      ]
    },
    {
      "cell_type": "code",
      "execution_count": null,
      "metadata": {
        "collapsed": true,
        "id": "Wh8ooPv6nkY8",
        "colab": {
          "base_uri": "https://localhost:8080/"
        },
        "outputId": "6e9c4ce7-f0a9-4e67-fdfb-f6d6297abcec"
      },
      "outputs": [
        {
          "metadata": {
            "tags": null
          },
          "name": "stderr",
          "output_type": "stream",
          "text": [
            "/usr/local/lib/python3.10/dist-packages/keras/src/layers/convolutional/base_conv.py:107: UserWarning: Do not pass an `input_shape`/`input_dim` argument to a layer. When using Sequential models, prefer using an `Input(shape)` object as the first layer in the model instead.\n",
            "  super().__init__(activity_regularizer=activity_regularizer, **kwargs)\n"
          ]
        },
        {
          "metadata": {
            "tags": null
          },
          "name": "stdout",
          "output_type": "stream",
          "text": [
            "Epoch 1/10\n"
          ]
        },
        {
          "metadata": {
            "tags": null
          },
          "name": "stderr",
          "output_type": "stream",
          "text": [
            "/usr/local/lib/python3.10/dist-packages/keras/src/ops/nn.py:545: UserWarning: You are using a softmax over axis -1 of a tensor of shape (None, 1). This axis has size 1. The softmax operation will always return the value 1, which is likely not what you intended. Did you mean to use a sigmoid instead?\n",
            "  warnings.warn(\n",
            "/usr/local/lib/python3.10/dist-packages/keras/src/losses/losses.py:27: SyntaxWarning: In loss categorical_crossentropy, expected y_pred.shape to be (batch_size, num_classes) with num_classes > 1. Received: y_pred.shape=(None, 1). Consider using 'binary_crossentropy' if you only have 2 classes.\n",
            "  return self.fn(y_true, y_pred, **self._fn_kwargs)\n",
            "/usr/local/lib/python3.10/dist-packages/keras/src/trainers/data_adapters/py_dataset_adapter.py:122: UserWarning: Your `PyDataset` class should call `super().__init__(**kwargs)` in its constructor. `**kwargs` can include `workers`, `use_multiprocessing`, `max_queue_size`. Do not pass these arguments to `fit()`, as they will be ignored.\n",
            "  self._warn_if_super_not_called()\n"
          ]
        },
        {
          "output_type": "stream",
          "name": "stdout",
          "text": [
            "\u001b[1m  39/4285\u001b[0m \u001b[37m━━━━━━━━━━━━━━━━━━━━\u001b[0m \u001b[1m3:53:41\u001b[0m 3s/step - accuracy: 1.0000 - loss: 0.0000e+00"
          ]
        }
      ],
      "source": [
        "from PIL import Image, ImageFile\n",
        "\n",
        "# Set the ImageFile.LOAD_TRUNCATED_IMAGES attribute to True\n",
        "ImageFile.LOAD_TRUNCATED_IMAGES = True\n",
        "\n",
        "custom_cnn = Sequential([\n",
        "    Conv2D(32, (3, 3), activation='relu', input_shape=(224, 224, 3)),\n",
        "    MaxPooling2D(2, 2),\n",
        "    Conv2D(64, (3, 3), activation='relu'),\n",
        "    MaxPooling2D(2, 2),\n",
        "    Flatten(),\n",
        "    Dense(128, activation='relu'),\n",
        "    Dropout(0.5),\n",
        "    Dense(train_generator.num_classes, activation='softmax')\n",
        "])\n",
        "\n",
        "custom_cnn.compile(optimizer='adam', loss='categorical_crossentropy', metrics=['accuracy'])\n",
        "custom_cnn.fit(train_generator, validation_data=val_generator, epochs=10)\n"
      ]
    },
    {
      "cell_type": "markdown",
      "metadata": {
        "id": "oAXuNJproLml"
      },
      "source": [
        "# **Pre-Trained Model ResNet50**"
      ]
    },
    {
      "cell_type": "code",
      "execution_count": null,
      "metadata": {
        "id": "TkVIEz8YoLYq"
      },
      "outputs": [],
      "source": [
        "#resnet_model = ResNet50(weights='imagenet', include_top=False, input_shape=(224, 224, 3))\n",
        "\n",
        "#x = Flatten()(resnet_model.output)\n",
        "#x = Dense(128, activation='relu')(x)\n",
        "#output = Dense(train_generator.num_classes, activation='softmax')(x)\n",
        "\n",
        "#pretrained_cnn = Model(inputs=resnet_model.input, outputs=output)\n",
        "#pretrained_cnn.compile(optimizer='adam', loss='categorical_crossentropy', metrics=['accuracy'])\n",
        "#pretrained_cnn.fit(train_generator, validation_data=val_generator, epochs=10)\n"
      ]
    },
    {
      "cell_type": "markdown",
      "metadata": {
        "id": "cq53XsdVp_7M"
      },
      "source": [
        "# **Model Evaluation**"
      ]
    },
    {
      "cell_type": "markdown",
      "metadata": {
        "id": "GhJjI7bxqdPd"
      },
      "source": [
        "## **Get Predictions**"
      ]
    },
    {
      "cell_type": "code",
      "execution_count": null,
      "metadata": {
        "id": "gyLrK-DCcgIi"
      },
      "outputs": [],
      "source": [
        "custom_predictions = np.argmax(custom_cnn.predict(test_generator), axis=-1)\n",
        "\n",
        "#pretrained_predictions = np.argmax(pretrained_cnn.predict(test_generator), axis=-1)\n",
        "\n",
        "true_label = test_generator.classes"
      ]
    },
    {
      "cell_type": "markdown",
      "metadata": {
        "id": "z4LqGqh0qnNB"
      },
      "source": [
        "## **Accuracy for both models**"
      ]
    },
    {
      "cell_type": "code",
      "execution_count": null,
      "metadata": {
        "id": "peDvEBI3qm94"
      },
      "outputs": [],
      "source": [
        "print(f\"Custom CNN Accuracy: {custom_predictions[1]:.2f}\")\n",
        "#print(f\"Pre-trained CNN Accuracy: {pretrained_predictions[1]:.2f}\")"
      ]
    },
    {
      "cell_type": "markdown",
      "metadata": {
        "id": "Nzl3ZEHfwlkv"
      },
      "source": [
        "## **F1 Score**"
      ]
    },
    {
      "cell_type": "code",
      "execution_count": null,
      "metadata": {
        "id": "Y-FQNzpvwqB_"
      },
      "outputs": [],
      "source": [
        "from sklearn.metrics import f1_score\n",
        "\n",
        "f1 = f1_score(true_labels, predictions, average='weighted')\n",
        "print(f\"Weighted F1-Score: {f1:.2f}\")\n"
      ]
    },
    {
      "cell_type": "markdown",
      "metadata": {
        "id": "hwqzEN8CquIv"
      },
      "source": [
        "## **Confusion Matrix**"
      ]
    },
    {
      "cell_type": "code",
      "execution_count": null,
      "metadata": {
        "id": "aGUoe31Rqua5"
      },
      "outputs": [],
      "source": [
        "from sklearn.metrics import confusion_matrix\n",
        "\n",
        "print(\"Custom CNN Confusion Matrix\")\n",
        "print(confusion_matrix(true_labels, custom_predictions))\n",
        "\n",
        "#print(\"Pre-trained CNN Confusion Matrix\")\n",
        "#print(confusion_matrix(true_labels, pretrained_predictions))"
      ]
    },
    {
      "cell_type": "markdown",
      "metadata": {
        "id": "aUV-Hiu9xFAg"
      },
      "source": [
        "## **Complete Report**"
      ]
    },
    {
      "cell_type": "code",
      "execution_count": null,
      "metadata": {
        "id": "LC5Pa6OOxI0u"
      },
      "outputs": [],
      "source": [
        "from sklearn.metrics import classification_report\n",
        "\n",
        "true_labels = test_generator.classes\n",
        "# For Custom Model\n",
        "\n",
        "customcnn_report = classification_report(true_labels, custom_predictions, target_names=class_names)\n",
        "print(\"Classification Report - Custom CNN\")\n",
        "print(customcnn_report)\n",
        "\n",
        "# For Pre-built Model(ResNet50)\n",
        "\n",
        "#resnet_report = classification_report(true_labels, pretrained_predictions, target_names=class_names)\n",
        "#print(\"Classification Report - Pretrained( ResNet50 Mdoel)\")\n",
        "#print(resnet_report)"
      ]
    },
    {
      "cell_type": "markdown",
      "metadata": {
        "id": "ktv_rSvtyhkf"
      },
      "source": [
        "# **Data Visualization**"
      ]
    },
    {
      "cell_type": "markdown",
      "metadata": {
        "id": "g9hEdHLtu5RW"
      },
      "source": [
        "## **ROC Curve**"
      ]
    },
    {
      "cell_type": "code",
      "execution_count": null,
      "metadata": {
        "id": "kzyv6QMbvIpN"
      },
      "outputs": [],
      "source": [
        "# Import additional libraries\n",
        "from sklearn.metrics import roc_curve, auc\n",
        "from sklearn.preprocessing import label_binarize\n",
        "\n",
        "# Binarize true labels for ROC curve\n",
        "n_classes = len(class_names)\n",
        "true_labels_binarized = label_binarize(true_labels, classes=range(n_classes))\n",
        "\n",
        "# Get predicted probabilities\n",
        "prob_predictions = custom_cnn.predict(test_generator)\n",
        "\n",
        "# Plot ROC Curve\n",
        "plt.figure(figsize=(8, 6))\n",
        "for i in range(n_classes):\n",
        "    fpr, tpr, _ = roc_curve(true_labels_binarized[:, i], prob_predictions[:, i])\n",
        "    roc_auc = auc(fpr, tpr)\n",
        "    plt.plot(fpr, tpr, label=f'Class {class_names[i]} (AUC = {roc_auc:.2f})')\n",
        "\n",
        "plt.plot([0, 1], [0, 1], 'k--')  # Diagonal line\n",
        "plt.title(\"ROC Curve - Custom CNN\")\n",
        "plt.xlabel(\"False Positive Rate\")\n",
        "plt.ylabel(\"True Positive Rate\")\n",
        "plt.legend(loc=\"lower right\")\n",
        "plt.grid()\n",
        "plt.show()\n",
        "\n",
        "# For Pre-Built Model ROC Curve\n",
        "\n",
        "# Binarize true labels for ROC curve\n",
        "#n_classes = len(class_names)\n",
        "#true_labels_binarized = label_binarize(true_labels, classes=range(n_classes))\n",
        "\n",
        "# Get predicted probabilities\n",
        "#prob_predictions = pretrained_cnn.predict(test_generator)\n",
        "\n",
        "# Plot ROC Curve\n",
        "#plt.figure(figsize=(8, 6))\n",
        "#for i in range(n_classes):\n",
        "    #fpr, tpr, _ = roc_curve(true_labels_binarized[:, i], prob_predictions[:, i])\n",
        "    #roc_auc = auc(fpr, tpr)\n",
        "    #plt.plot(fpr, tpr, label=f'Class {class_names[i]} (AUC = {roc_auc:.2f})')\n",
        "\n",
        "#plt.plot([0, 1], [0, 1], 'k--')  # Diagonal line\n",
        "#plt.title(\"ROC Curve - ResNet50 Model(Prebuilt)\")\n",
        "#plt.xlabel(\"False Positive Rate\")\n",
        "#plt.ylabel(\"True Positive Rate\")\n",
        "#plt.legend(loc=\"lower right\")\n",
        "#plt.grid()\n",
        "#plt.show()\n",
        "\n"
      ]
    },
    {
      "cell_type": "markdown",
      "metadata": {
        "id": "YyrBci4My9uP"
      },
      "source": [
        "## **Confusion Matrix Plot**"
      ]
    },
    {
      "cell_type": "code",
      "execution_count": null,
      "metadata": {
        "id": "x1fGLLA1ykLU"
      },
      "outputs": [],
      "source": [
        "true_labels = test_generator.classes\n",
        "predictions = np.argmax(custom_cnn.predict(test_generator), axis=-1)\n",
        "cm = confusion_matrix(true_labels, predictions)\n",
        "\n",
        "plt.figure(figsize=(8, 6))\n",
        "plt.imshow(cm, cmap=plt.cm.Blues)\n",
        "plt.title(\"Confusion Matrix - Custom CNN\")\n",
        "plt.colorbar()\n",
        "\n",
        "plt.xticks(np.arange(len(class_names)), class_names, rotation=45)\n",
        "plt.yticks(np.arange(len(class_names)), class_names)\n",
        "\n",
        "# Adding number to each cell( format)\n",
        "for i in range(len(cm)):\n",
        "    for j in range(len(cm[i])):\n",
        "        plt.text(j, i, cm[i, j], ha='center', va='center', color='blue')\n",
        "\n",
        "plt.ylabel(\"True Labels\")\n",
        "plt.xlabel(\"Predicted Labels\")\n",
        "plt.tight_layout()\n",
        "plt.show()\n"
      ]
    }
  ],
  "metadata": {
    "accelerator": "TPU",
    "colab": {
      "gpuType": "V28",
      "provenance": [],
      "authorship_tag": "ABX9TyNYf7TAQTs4DgyOU7nV5SDB",
      "include_colab_link": true
    },
    "kernelspec": {
      "display_name": "Python 3",
      "name": "python3"
    },
    "language_info": {
      "name": "python"
    }
  },
  "nbformat": 4,
  "nbformat_minor": 0
}